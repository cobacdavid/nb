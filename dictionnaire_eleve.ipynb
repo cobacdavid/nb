{
 "cells": [
  {
   "cell_type": "markdown",
   "metadata": {},
   "source": [
    "# DICTIONNAIRES Terminale : rappels de première\n",
    "\n",
    "Un dictionnaire est une _structure de données_ permettant le stockage de données.\n",
    "C'est un tableau associatif, comme l'est un dictionnaire de langue française ou un index dans un livre dans lesquels on recherche un mot pour obtenir une description ou le numéro d'une page.\n",
    "\n",
    "Un élément du dictionnaire est un couple `(clé, valeur)`.\n",
    "\n",
    "L'interface d'un dictionnaire se compose de :\n",
    " - sa longueur ;\n",
    " - l'insertion d'un élément ;\n",
    " - l'accès à un élement ;\n",
    " - la recherche d'un élément à partir de sa clé ;\n",
    " - la suppression d'un élément ;\n",
    " - la possibilité de _parcourir_ le dictionnaire."
   ]
  },
  {
   "cell_type": "markdown",
   "metadata": {
    "ein.tags": "worksheet-0",
    "slideshow": {
     "slide_type": "-"
    }
   },
   "source": [
    "## Un dictionnaire est un tableau constitué de clés et de valeurs\n",
    "\n",
    "Une clé permet d'accéder à une valeur.\n",
    "\n",
    "\n",
    "L'accès aux valeurs se fait comme dans une liste : on utilise les crochets, on ne met plus la position de l'élément désiré mais la clé :"
   ]
  },
  {
   "cell_type": "code",
   "execution_count": null,
   "metadata": {
    "autoscroll": false,
    "ein.hycell": false,
    "ein.tags": "worksheet-0",
    "slideshow": {
     "slide_type": "-"
    }
   },
   "outputs": [],
   "source": [
    "d = {1: 'entrée', 1.5: 'plat', 3.14: 'tarte'}\n",
    "d"
   ]
  },
  {
   "cell_type": "code",
   "execution_count": null,
   "metadata": {
    "autoscroll": false,
    "ein.hycell": false,
    "ein.tags": "worksheet-0",
    "slideshow": {
     "slide_type": "-"
    }
   },
   "outputs": [],
   "source": [
    "d[1.5] # accès à l'élément de clé 1.5"
   ]
  },
  {
   "cell_type": "markdown",
   "metadata": {},
   "source": [
    "On peut alimenter le dictionnaire avec un nouveau couple `(clé, valeur)` après la création du dictionnaire :"
   ]
  },
  {
   "cell_type": "code",
   "execution_count": null,
   "metadata": {
    "autoscroll": false,
    "ein.hycell": false,
    "ein.tags": "worksheet-0",
    "slideshow": {
     "slide_type": "-"
    }
   },
   "outputs": [],
   "source": [
    "d[0.51] = \"apéro\"\n",
    "d"
   ]
  },
  {
   "cell_type": "markdown",
   "metadata": {},
   "source": [
    " On remarque que le dictionnaire ne trie pas ses élements selon la clé."
   ]
  },
  {
   "cell_type": "markdown",
   "metadata": {},
   "source": [
    "La longueur du dictionnaire est le nombre de couples `(clé, valeur)` qu'il contient.\n",
    "\n",
    "En Python, on utilise la fonction `len` comme pour les listes : "
   ]
  },
  {
   "cell_type": "code",
   "execution_count": null,
   "metadata": {},
   "outputs": [],
   "source": [
    "len(d)"
   ]
  },
  {
   "cell_type": "markdown",
   "metadata": {},
   "source": [
    "Pour supprimer une clé (et donc l'accès à une valeur), on utilise l'instruction `del` :"
   ]
  },
  {
   "cell_type": "code",
   "execution_count": null,
   "metadata": {},
   "outputs": [],
   "source": [
    "del d[0.51]\n",
    "d"
   ]
  },
  {
   "cell_type": "markdown",
   "metadata": {},
   "source": [
    "Pour créer un dictionnaire vide, on utilise : "
   ]
  },
  {
   "cell_type": "code",
   "execution_count": null,
   "metadata": {},
   "outputs": [],
   "source": [
    "mon_dico = {}"
   ]
  },
  {
   "cell_type": "markdown",
   "metadata": {
    "ein.tags": "worksheet-0",
    "slideshow": {
     "slide_type": "-"
    }
   },
   "source": [
    "## Tous les immutables sont possibles comme clé\n",
    "\n",
    "Comme par exemple les nombres, les chaînes de caractères :"
   ]
  },
  {
   "cell_type": "code",
   "execution_count": null,
   "metadata": {},
   "outputs": [],
   "source": [
    "mon_dico['spé'] = 'NSI'\n",
    "mon_dico[0] = 'La clé est un nombre.'\n",
    "mon_dico['0'] = 'La clé est un caractère.'\n",
    "mon_dico"
   ]
  },
  {
   "cell_type": "markdown",
   "metadata": {},
   "source": [
    "Un tuple est une clé possible, par exemple le tuple `(3, 1)`.\n",
    "La liste `[3, 1]` n'est pas possible.\n",
    "\n",
    "On ne change pas la valeur d'un tuple (normalement), c'est un immutable.\n",
    "Alors qu'une liste est susceptible de changer, c'est un mutable."
   ]
  },
  {
   "cell_type": "code",
   "execution_count": null,
   "metadata": {
    "autoscroll": false,
    "ein.hycell": false,
    "ein.tags": "worksheet-0",
    "slideshow": {
     "slide_type": "-"
    }
   },
   "outputs": [],
   "source": [
    "mon_dico[(3, 1)] = \"#0f0\"\n",
    "mon_dico"
   ]
  },
  {
   "cell_type": "code",
   "execution_count": null,
   "metadata": {
    "autoscroll": false,
    "ein.hycell": false,
    "ein.tags": "worksheet-0",
    "slideshow": {
     "slide_type": "-"
    }
   },
   "outputs": [],
   "source": [
    "mon_dico[[3,1]] = \"#0f0\" # produit une erreur"
   ]
  },
  {
   "cell_type": "markdown",
   "metadata": {
    "ein.tags": "worksheet-0",
    "slideshow": {
     "slide_type": "-"
    }
   },
   "source": [
    "## On peut, comme dans une liste, avoir des valeurs assez complexes\n",
    "\n",
    "Ci-dessous, la valeur associée à la clé `'repas'` est un tableau contenant en dernier élément un dictionnaire."
   ]
  },
  {
   "cell_type": "code",
   "execution_count": null,
   "metadata": {
    "autoscroll": false,
    "ein.hycell": false,
    "ein.tags": "worksheet-0",
    "slideshow": {
     "slide_type": "-"
    }
   },
   "outputs": [],
   "source": [
    "d = {}\n",
    "d['restaurant'] = \"Aux Nombreuses Sardines Indigestes\"\n",
    "d['repas'] = [\"entree\", \"plat\", {\"boisson\": \"eau plate\", \"tarif\": 0, \"volume\": 1.5}]\n",
    "d"
   ]
  },
  {
   "cell_type": "markdown",
   "metadata": {},
   "source": [
    "On peut récupérer **l'ensemble des clés** avec la méthode `keys` :"
   ]
  },
  {
   "cell_type": "code",
   "execution_count": null,
   "metadata": {},
   "outputs": [],
   "source": [
    "d.keys()"
   ]
  },
  {
   "cell_type": "markdown",
   "metadata": {},
   "source": [
    "On peut voir que l'objet sorti par cette méthode n'est pas une simple liste. Néanmoins cela reste un objet `itérable` (sur lequel on peut boucler) :"
   ]
  },
  {
   "cell_type": "code",
   "execution_count": null,
   "metadata": {},
   "outputs": [],
   "source": [
    "for cle in d.keys():\n",
    "    print(cle)"
   ]
  },
  {
   "cell_type": "markdown",
   "metadata": {},
   "source": [
    "On peut récupérer **l'ensemble des valeurs** avec la méthode `values`, cela nous donne **l'index** du dictionnaire."
   ]
  },
  {
   "cell_type": "code",
   "execution_count": null,
   "metadata": {},
   "outputs": [],
   "source": [
    "d.values()"
   ]
  },
  {
   "cell_type": "markdown",
   "metadata": {
    "ein.tags": "worksheet-0",
    "slideshow": {
     "slide_type": "-"
    }
   },
   "source": [
    "**On peut accèder à un élement imbriqué en suivant la logique des accès aux listes et aux dictionnaires**\n",
    "\n",
    "Cherchons à obtenir `'eau plate'`."
   ]
  },
  {
   "cell_type": "code",
   "execution_count": null,
   "metadata": {
    "autoscroll": false,
    "ein.hycell": false,
    "ein.tags": "worksheet-0",
    "slideshow": {
     "slide_type": "-"
    }
   },
   "outputs": [],
   "source": [
    "d['repas']"
   ]
  },
  {
   "cell_type": "code",
   "execution_count": null,
   "metadata": {
    "autoscroll": false,
    "ein.hycell": false,
    "ein.tags": "worksheet-0",
    "slideshow": {
     "slide_type": "-"
    }
   },
   "outputs": [],
   "source": [
    "d['repas'][2]"
   ]
  },
  {
   "cell_type": "code",
   "execution_count": null,
   "metadata": {
    "autoscroll": false,
    "ein.hycell": false,
    "ein.tags": "worksheet-0",
    "slideshow": {
     "slide_type": "-"
    }
   },
   "outputs": [],
   "source": [
    "d['repas'][2]['boisson']"
   ]
  },
  {
   "cell_type": "markdown",
   "metadata": {},
   "source": [
    "*Remarque :* C'est un classique dans le parcours de données au format JSON, format fréquent sur Internet.\n",
    "\n",
    "On remarque dans l'exemple précédent qu'il a été nécessaire de connaître la position dans la liste. C'est souvent le cas dans les JSON récupérés : il est indispensable d'analyser (et de bien lire la documentation associée) le contenu du JSON avant de pouvoir l'exploiter.\n",
    "\n",
    "Certains contenus JSON sont néanmoins normalisés comme par exemple les JSON à caractère géographiques (contenant de l'information liée à un positionnement GPS) : les GeoJSON. \n",
    "\n",
    "*NB :* La transformation du format JSON en dictionnaire Python est une opération que la bibliothèque Python `json` peut assurer simplement et efficacement."
   ]
  },
  {
   "cell_type": "markdown",
   "metadata": {
    "ein.tags": "worksheet-0",
    "slideshow": {
     "slide_type": "-"
    }
   },
   "source": [
    "## Créer un dictionnaire par compréhension\n",
    "\n",
    "À l'instar de ce que'on peut réaliser avec les listes, on peut créer un dictionnaire **par compréhension**.\n",
    "La syntaxe est presque la même. On doit évidemment préciser la clé et la valeur."
   ]
  },
  {
   "cell_type": "code",
   "execution_count": null,
   "metadata": {
    "autoscroll": false,
    "ein.hycell": false,
    "ein.tags": "worksheet-0",
    "slideshow": {
     "slide_type": "-"
    }
   },
   "outputs": [],
   "source": [
    "mon_dico = {f\"clé {i}\": f\"valeur {i}\" for i in range(10)}\n",
    "mon_dico"
   ]
  },
  {
   "cell_type": "markdown",
   "metadata": {
    "ein.tags": "worksheet-0",
    "slideshow": {
     "slide_type": "-"
    }
   },
   "source": [
    "## Parcours d'un dictionnaire\n",
    "\n",
    "Dans un _parcours_, il s'agit d'obtenir l'ensemble du contenu du dictionnaire ou du moins de l'ensemble des clés (qui donnent accès au valeurs).\n",
    "\n",
    "Avec une syntaxe analogue à celle des listes, on parcourt les clés :"
   ]
  },
  {
   "cell_type": "code",
   "execution_count": null,
   "metadata": {
    "autoscroll": false,
    "ein.hycell": false,
    "ein.tags": "worksheet-0",
    "slideshow": {
     "slide_type": "-"
    }
   },
   "outputs": [],
   "source": [
    "for e in mon_dico:\n",
    "    print(e)"
   ]
  },
  {
   "cell_type": "markdown",
   "metadata": {
    "ein.tags": "worksheet-0",
    "slideshow": {
     "slide_type": "-"
    }
   },
   "source": [
    "_Remarque :_ Le parcours précédent est analogue à celui vu précédemment avec `for e in mon_dico.keys()`.\n",
    "\n",
    "On peut aussi parcourir le dictionnaire en obtenant les tuples `(clé, valeur)` :"
   ]
  },
  {
   "cell_type": "code",
   "execution_count": null,
   "metadata": {
    "autoscroll": false,
    "ein.hycell": false,
    "ein.tags": "worksheet-0",
    "slideshow": {
     "slide_type": "-"
    }
   },
   "outputs": [],
   "source": [
    "for e in mon_dico.items():\n",
    "    print(e)"
   ]
  },
  {
   "cell_type": "markdown",
   "metadata": {},
   "source": [
    "Avec ce parcours, on peut faire une affectation simultanée de la clé et de la valeur :"
   ]
  },
  {
   "cell_type": "code",
   "execution_count": null,
   "metadata": {},
   "outputs": [],
   "source": [
    "for k, v in mon_dico.items():\n",
    "    print(f\"{k} -> {v}\")"
   ]
  },
  {
   "cell_type": "markdown",
   "metadata": {
    "ein.tags": "worksheet-0",
    "slideshow": {
     "slide_type": "-"
    }
   },
   "source": [
    "Python autorise un parcours des valeurs :"
   ]
  },
  {
   "cell_type": "code",
   "execution_count": null,
   "metadata": {
    "autoscroll": false,
    "ein.hycell": false,
    "ein.tags": "worksheet-0",
    "slideshow": {
     "slide_type": "-"
    }
   },
   "outputs": [],
   "source": [
    "for e in mon_dico.values():\n",
    "    print(e)"
   ]
  },
  {
   "cell_type": "markdown",
   "metadata": {},
   "source": [
    "*Remarque :*  depuis peu, Python garantit que l'affichage d'un dictionnaire ou son parcours se fait dans l'ordre dans lesquels les clés ont été introduites."
   ]
  },
  {
   "cell_type": "markdown",
   "metadata": {
    "ein.tags": "worksheet-0",
    "slideshow": {
     "slide_type": "-"
    }
   },
   "source": [
    "## Problème de la copie\n",
    "\n",
    "Comme pour les listes, l'utilisation de `deepcopy` du module `copy`\n",
    "permet de contourner le problème des structures tableaux imbriquées :"
   ]
  },
  {
   "cell_type": "code",
   "execution_count": null,
   "metadata": {
    "autoscroll": false,
    "ein.hycell": false,
    "ein.tags": "worksheet-0",
    "slideshow": {
     "slide_type": "-"
    }
   },
   "outputs": [],
   "source": [
    "d = {'ma_cle': [1, 2, 3]}\n",
    "e = d\n",
    "id(e) == id(d)"
   ]
  },
  {
   "cell_type": "code",
   "execution_count": null,
   "metadata": {
    "autoscroll": false,
    "ein.hycell": false,
    "ein.tags": "worksheet-0",
    "slideshow": {
     "slide_type": "-"
    }
   },
   "outputs": [],
   "source": [
    "# on copie pour avoir des id différents\n",
    "e = d.copy() # on peut aussi copier avec : e = dict(d)\n",
    "id(e) == id(d)"
   ]
  },
  {
   "cell_type": "code",
   "execution_count": null,
   "metadata": {
    "autoscroll": false,
    "ein.hycell": false,
    "ein.tags": "worksheet-0",
    "slideshow": {
     "slide_type": "-"
    }
   },
   "outputs": [],
   "source": [
    "# mais le tableau imbriquée possède la même adresse !\n",
    "id(e['ma_cle']) == id(d['ma_cle'])"
   ]
  },
  {
   "cell_type": "code",
   "execution_count": null,
   "metadata": {
    "autoscroll": false,
    "ein.hycell": false,
    "ein.tags": "worksheet-0",
    "slideshow": {
     "slide_type": "-"
    }
   },
   "outputs": [],
   "source": [
    "# la solution : utiliser le module copy\n",
    "import copy\n",
    "e = copy.deepcopy(d)\n",
    "\n",
    "id(e['ma_cle']) == id(d['ma_cle'])"
   ]
  },
  {
   "cell_type": "markdown",
   "metadata": {},
   "source": [
    "## COMPLEXITÉ\n",
    "\n",
    "La complexité va dépendre en partie de l'implémentation.\n",
    "\n",
    "Dans la [doc officielle](https://wiki.python.org/moin/TimeComplexity) du langage Python :\n",
    "\n",
    " - insertion : en moyenne O(1), mais en pire cas O(n)\n",
    " - accès : en moyenne O(1), mais en pire cas O(n)\n",
    " - suppression : en moyenne O(1), mais en pire cas O(n)\n",
    " - recherche d'un élément par sa clé (`cle in dico`) : en moyenne O(1), mais en pire cas O(n)\n",
    " - parcours : O(n)"
   ]
  },
  {
   "cell_type": "markdown",
   "metadata": {},
   "source": [
    "## POUR ALLER PLUS LOIN"
   ]
  },
  {
   "cell_type": "markdown",
   "metadata": {},
   "source": [
    "**Un dictionnaire n'est pas immutable.**\n",
    "\n",
    "On ne peut donc pas utiliser un dictionnaire comme clé d'un autre dictionnaire :"
   ]
  },
  {
   "cell_type": "code",
   "execution_count": null,
   "metadata": {},
   "outputs": [],
   "source": [
    "a = {}\n",
    "b = {a: 1}"
   ]
  },
  {
   "cell_type": "markdown",
   "metadata": {},
   "source": [
    "**Comment sont stockées en mémoire ces dictionnaires ?**\n",
    "\n",
    "L'erreur générée précédemment indique \"unhashable type\".\n",
    "\n",
    "Pour chaque clé, un nombre unique est généré, ce nombre permet alors un adressage mémoire à l'image d'un tableau indexé. Pour générer ce nombre unique, on utilise une fonction de hachage : cette fonction prend en entrée un contenu quelconque et produit en sortie un nombre.\n",
    "\n",
    "Une fonction de hachage assure au moins les 3 propriétés suivantes :\n",
    " - les calculs générant le nombre sont rapides ;\n",
    " - ils sont déterministes : deux contenus identiques donnent deux nombres identiques ;\n",
    " - ils produisent un nombre de longueur fixe.\n",
    "\n",
    "À partir du nombre, c'est impossible de retrouver le contenu correspondant (ce qui peut amener à d'autres usages de ces fonctions).\n",
    "\n",
    "**Le nombre est lié à la clé. Donc pour pointer vers la bonne case mémoire quand on demande une valeur, il est important que la clé n'ait pas changée ! Les clés doivent être \"hashables\" c'est-à-dire en Python immutables ce qui n'est notamment pas le cas des listes et des dictionnaires qui par nature sont susceptibles de changer de contenu au fur et à mesure d'un programme.**\n",
    "\n",
    "En Python, la fonction `hash` est directement utilisable et fournit une fonction de hachage ; la bibliothèque `hashlib` permet aussi d'utiliser des fonctions de hachage notamment les plus connues. "
   ]
  },
  {
   "cell_type": "code",
   "execution_count": null,
   "metadata": {},
   "outputs": [],
   "source": [
    "import hashlib\n",
    "\n",
    "# on crée un objet hashlib avec sha256 comme fonction\n",
    "a = hashlib.sha256()\n",
    "# on embarque le contenu sous format binaire\n",
    "a.update(b\"NSI\")\n",
    "# on obtient le nombre sous forme hexadécimale\n",
    "# ce nombre \"unique\" peut servir pour générer une adresse mémoire\n",
    "a.hexdigest()"
   ]
  },
  {
   "cell_type": "markdown",
   "metadata": {},
   "source": [
    "*Pour finir :* Une fois ce nombre généré, Python utilise la fonction modulo pour revenir à des vrais emplacements mémoires. En fait, à la création d'un dictionnaire vide, l'interpréteur Python réserve des emplacements mémoires et quand 2/3 des emplacements réservés sont remplis, il réserve de nouveau d'autres emplacements.\n",
    "\n",
    "À la suppression d'un élément, il ne libère pas forcément la mémoire, il continue de réserver l'emplacement.\n",
    "\n",
    "\n",
    "![](table_de_hash.png)\n",
    "\n",
    "_image issue de [cette vidéo](https://www.youtube.com/watch?v=egTtpqXQz7c)_"
   ]
  },
  {
   "cell_type": "markdown",
   "metadata": {},
   "source": [
    "**Une fonction est immutable donc peut servir comme clé**"
   ]
  },
  {
   "cell_type": "code",
   "execution_count": null,
   "metadata": {},
   "outputs": [],
   "source": [
    "def carree(x): return x ** 2\n",
    "\n",
    "dico = {carree: \"c'est la fonction carrée !\"}\n",
    "dico[carree]"
   ]
  },
  {
   "cell_type": "markdown",
   "metadata": {},
   "source": [
    "**Mettre à jour un dictionnaire**\n",
    "\n",
    "On peut certes changer les valeurs une à une dans un dictionnaire, mais on peut aussi utiliser un autre dictionnaire pour mettre à jour les valeurs. À cet effet, Python dispose de la méthode `update` qui permet de mettre à jour les valeurs d'un dictionnaire à partir d'un autre :"
   ]
  },
  {
   "cell_type": "code",
   "execution_count": null,
   "metadata": {},
   "outputs": [],
   "source": [
    "options_par_defaut = {\"couleur\": \"#f00\", \"largeur\": 15 , \"hauteur\": 30, \"taille_police\": 12}\n",
    "options_selectionnées_par_un_utilisateur = {\"couleur\": \"#abcdef\"}\n",
    "\n",
    "options_par_defaut.update(options_selectionnées_par_un_utilisateur)\n",
    "options_par_defaut"
   ]
  },
  {
   "cell_type": "markdown",
   "metadata": {},
   "source": [
    "Mais cela modifie le dictionnaire par défaut qu'on peut avoir envie de conserver intact...\n",
    "Une solution serait de \"deepcopier\" le dictionnaire avant dans un nouveau dictionnaire :"
   ]
  },
  {
   "cell_type": "code",
   "execution_count": null,
   "metadata": {},
   "outputs": [],
   "source": [
    "import copy\n",
    "\n",
    "options_par_defaut = {\"couleur\": \"#f00\", \"largeur\": 15 , \"hauteur\": 30, \"taille_police\": 12}\n",
    "options_selectionnées_par_un_utilisateur = {\"couleur\": \"#abcdef\"}\n",
    "\n",
    "options_finales = copy.deepcopy(options_par_defaut)\n",
    "options_finales.update(options_selectionnées_par_un_utilisateur)\n",
    "options_finales"
   ]
  },
  {
   "cell_type": "markdown",
   "metadata": {},
   "source": [
    "**Attaque par Denial Of Service**\n",
    "\n",
    "Il existe des cas de **collisions** : des contenus différents qui donnent le même nombre. Python est conçu pour repérer cette situation et fait des calculs supplémentaires pour la résoudre, changeant potentiellement la complexité. Heureusement ces cas sont rares.\n",
    "\n",
    "Avant la version 3.3 de Python, il était possible d'élaborer une attaque DOS en envoyant, en masse, à l'interpréteur des cas de collisions ce qui bloquait finalement l'ordinateur cible de l'attaque."
   ]
  },
  {
   "cell_type": "markdown",
   "metadata": {},
   "source": [
    "## Dans d'autres langages\n",
    "\n",
    "Les dictionnaires sont très pratiques mais ne sont pas nativement implémentées dans tous les langages."
   ]
  },
  {
   "cell_type": "markdown",
   "metadata": {},
   "source": [
    "**en OCamL**\n",
    "\n",
    "Il n'y a pas à proprement parler de type dictionnaire mais on peut construire des listes de couples : les listes d'associations."
   ]
  },
  {
   "cell_type": "markdown",
   "metadata": {},
   "source": [
    "**en Javascript et en C**\n",
    "\n",
    "Il n'existe pas nativement une telle structure, mais on peut trouver sur Internet des façons de l'implémenter."
   ]
  },
  {
   "cell_type": "markdown",
   "metadata": {},
   "source": [
    "**en Lua**\n",
    "\n",
    "Les tableaux en Lua sont par définition associatifs, donc sont un mix entre listes et dictionnaires. Lua dispose donc de fonctions spéciales pour les parcours."
   ]
  },
  {
   "cell_type": "markdown",
   "metadata": {},
   "source": [
    "## Documentation\n",
    "\n",
    "- [les dictionnaires en Python](https://apcpedagogie.com/les-dictionnaires-en-python/)\n",
    "- [Python dictionaries](https://www.w3schools.com/python/python_dictionaries.asp)\n",
    "- [Understanding dictionaries](http://thepythoncorner.com/dev/hash-tables-understanding-dictionaries/)\n"
   ]
  },
  {
   "cell_type": "code",
   "execution_count": null,
   "metadata": {},
   "outputs": [],
   "source": [
    "from IPython.display import IFrame\n",
    "\n",
    "IFrame('https://www.youtube.com/embed/KyUTuwz_b7Q', 560, 315)"
   ]
  },
  {
   "cell_type": "markdown",
   "metadata": {},
   "source": [
    "`{'auteur': 'David COBAC', 'licence': 'CC-BY-NC-SA', 'date': 20210810, 'révision': 20210911}`"
   ]
  }
 ],
 "metadata": {
  "kernelspec": {
   "display_name": "Python 3",
   "language": "python",
   "name": "python3"
  },
  "language_info": {
   "codemirror_mode": {
    "name": "ipython",
    "version": 3
   },
   "file_extension": ".py",
   "mimetype": "text/x-python",
   "name": "python",
   "nbconvert_exporter": "python",
   "pygments_lexer": "ipython3",
   "version": "3.9.7"
  },
  "name": "dictionnaire.ipynb"
 },
 "nbformat": 4,
 "nbformat_minor": 4
}
